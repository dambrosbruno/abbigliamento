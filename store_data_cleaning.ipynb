{
 "cells": [
  {
   "cell_type": "code",
   "execution_count": 55,
   "id": "f1af307c",
   "metadata": {},
   "outputs": [],
   "source": [
    "import pandas as pd"
   ]
  },
  {
   "cell_type": "code",
   "execution_count": 56,
   "id": "7c062468",
   "metadata": {},
   "outputs": [],
   "source": [
    "df = pd.read_csv('sales_data.csv')"
   ]
  },
  {
   "cell_type": "code",
   "execution_count": 57,
   "id": "cbd08128",
   "metadata": {},
   "outputs": [],
   "source": [
    "#Convert 'date' do 'datetime'\n",
    "df['date'] = pd.to_datetime(df['date'], format='%Y-%m-%d')\n",
    "\n",
    "#sort by date ascending\n",
    "df = df.sort_values(by='date', ascending=True)\n",
    "\n",
    "df['qty'] = df['qty'].astype(int)\n",
    "df['unit_price'] = df['unit_price'].astype(int)\n",
    "df['item'] = df['item'].astype(str)\n",
    "\n",
    "#creat column 'total'\n",
    "df['total'] = df['qty']*df['unit_price']\n",
    "\n",
    "#convert total:\n",
    "df['total'] = df['total'].astype(int)\n",
    "\n",
    "#delet column unnamed:6\n",
    "df = df.drop(['store', 'item_category', 'Unnamed: 6'], axis=1)"
   ]
  },
  {
   "cell_type": "code",
   "execution_count": 58,
   "id": "4c6483ce",
   "metadata": {
    "scrolled": true
   },
   "outputs": [],
   "source": [
    "#Select only the rows concerning the top most sold itens:\n",
    "df2 = df.groupby(['date', 'item'])[['qty', 'total']].sum().reset_index().sort_values(by='date', ascending=True)\n",
    "top_items = df.groupby(['item'])['qty'].sum().reset_index().sort_values(by='qty', ascending=False).head(10)\n",
    "df1 = df2[df2['item'].isin(top_items['item'])]"
   ]
  },
  {
   "cell_type": "code",
   "execution_count": 59,
   "id": "8872c76f",
   "metadata": {},
   "outputs": [],
   "source": [
    "#Merge with temperature dates:\n",
    "celsius = pd.read_csv('temperature_italy.csv')\n",
    "celsius['Date'] = pd.to_datetime(celsius['Date'], format='%Y-%m-%d')\n",
    "df1 = pd.merge(df1, celsius, left_on='date', right_on='Date', how='inner')\n",
    "df1 = df1.drop(['Country', 'Date'], axis=1)"
   ]
  },
  {
   "cell_type": "code",
   "execution_count": 60,
   "id": "3e51216a",
   "metadata": {},
   "outputs": [],
   "source": [
    "#Map with clothes\n",
    "itens = top_items['item'].to_list()\n",
    "nomes = ['canotta bianca', 'maglietta', 'wind-giacca', 'maglione', 'camicia', 'pantalone', 'canotta nera', 'giubotto', 'calzini', 'mutande']\n",
    "dicionario_itens_nomes = dict(zip(itens, nomes))\n",
    "df1['cloth'] = df1['item'].map(dicionario_itens_nomes)"
   ]
  },
  {
   "cell_type": "code",
   "execution_count": 62,
   "id": "f4a7c3b0",
   "metadata": {},
   "outputs": [],
   "source": [
    "df1.to_csv(path_or_buf='store.csv', sep=',', index=False)"
   ]
  }
 ],
 "metadata": {
  "kernelspec": {
   "display_name": "Python 3 (ipykernel)",
   "language": "python",
   "name": "python3"
  },
  "language_info": {
   "codemirror_mode": {
    "name": "ipython",
    "version": 3
   },
   "file_extension": ".py",
   "mimetype": "text/x-python",
   "name": "python",
   "nbconvert_exporter": "python",
   "pygments_lexer": "ipython3",
   "version": "3.10.5"
  }
 },
 "nbformat": 4,
 "nbformat_minor": 5
}
